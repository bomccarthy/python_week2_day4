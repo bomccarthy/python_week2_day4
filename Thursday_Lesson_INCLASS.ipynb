{
 "cells": [
  {
   "cell_type": "markdown",
   "metadata": {},
   "source": [
    "# Object-Oriented-Programming (OOP)"
   ]
  },
  {
   "cell_type": "markdown",
   "metadata": {},
   "source": [
    "## Tasks Today:\n",
    "\n",
    "   \n",
    "\n",
    "1) <b>Creating a Class (Initializing/Declaring)</b> <br>\n",
    "2) <b>Using a Class (Instantiating)</b> <br>\n",
    " &nbsp;&nbsp;&nbsp;&nbsp; a) Creating One Instance <br>\n",
    " &nbsp;&nbsp;&nbsp;&nbsp; b) Creating Multiple Instances <br>\n",
    " &nbsp;&nbsp;&nbsp;&nbsp; c) In-Class Exercise #1 - Create a Class 'Car' and instantiate three different makes of cars <br>\n",
    "3) <b>The \\__init\\__() Method</b> <br>\n",
    " &nbsp;&nbsp;&nbsp;&nbsp; a) The 'self' Attribute <br>\n",
    "4) <b>Class Attributes</b> <br>\n",
    " &nbsp;&nbsp;&nbsp;&nbsp; a) Initializing Attributes <br>\n",
    " &nbsp;&nbsp;&nbsp;&nbsp; b) Setting an Attribute Outside of the \\__init\\__() Method <br>\n",
    " &nbsp;&nbsp;&nbsp;&nbsp; c) Setting Defaults for Attributes <br>\n",
    " &nbsp;&nbsp;&nbsp;&nbsp; d) Accessing Class Attributes <br>\n",
    " &nbsp;&nbsp;&nbsp;&nbsp; e) Changing Class Attributes <br>\n",
    " &nbsp;&nbsp;&nbsp;&nbsp; f) In-Class Exercise #2 - Add a color and wheels attribute to your 'Car' class <br>\n",
    "5) <b>Class Methods</b> <br>\n",
    " &nbsp;&nbsp;&nbsp;&nbsp; a) Creating <br>\n",
    " &nbsp;&nbsp;&nbsp;&nbsp; b) Calling <br>\n",
    " &nbsp;&nbsp;&nbsp;&nbsp; c) Modifying an Attribute's Value Through a Method <br>\n",
    " &nbsp;&nbsp;&nbsp;&nbsp; d) Incrementing an Attribute's Value Through a Method <br>\n",
    " &nbsp;&nbsp;&nbsp;&nbsp; e) In-Class Exercise #3 - Add a method that prints the cars color and wheel number, then call them <br>\n",
    "6) <b>Inheritance</b> <br>\n",
    " &nbsp;&nbsp;&nbsp;&nbsp; a) Syntax for Inheriting from a Parent Class <br>\n",
    " &nbsp;&nbsp;&nbsp;&nbsp; b) The \\__init\\__() Method for a Child Class (super()) <br>\n",
    " &nbsp;&nbsp;&nbsp;&nbsp; c) Defining Attributes and Methods for the Child Class <br>\n",
    " &nbsp;&nbsp;&nbsp;&nbsp; d) Method Overriding <br>\n",
    " &nbsp;&nbsp;&nbsp;&nbsp; e) In-Class Exercise #4 - Create a class 'Ford' that inherits from 'Car' class and initialize it as a Blue Ford Explorer with 4 wheels using the super() method <br>\n",
    "7) <b>Classes as Attributes</b> <br>\n",
    "8) <b>Exercises</b> <br>\n",
    " &nbsp;&nbsp;&nbsp;&nbsp; a) Exercise #1 - Turn the shopping cart program from yesterday into an object-oriented program <br>"
   ]
  },
  {
   "cell_type": "markdown",
   "metadata": {},
   "source": [
    "## Creating a Class (Initializing/Declaring)\n",
    "<p>When creating a class, function, or even a variable you are initializing that object. Initializing and Declaring occur at the same time in Python, whereas in lower level languages you have to declare an object before initializing it. This is the first step in the process of using a class.</p>"
   ]
  },
  {
   "cell_type": "code",
   "execution_count": 1,
   "metadata": {},
   "outputs": [],
   "source": [
    "class Car():\n",
    "    wheels = 4\n",
    "    color = 'blue'"
   ]
  },
  {
   "cell_type": "markdown",
   "metadata": {},
   "source": [
    "## Using a Class (Instantiating)\n",
    "<p>The process of creating a class is called <i>Instantiating</i>. Each time you create a variable of that type of class, it is referred to as an <i>Instance</i> of that class. This is the second step in the process of using a class.</p>"
   ]
  },
  {
   "cell_type": "markdown",
   "metadata": {},
   "source": [
    "##### Creating One Instance"
   ]
  },
  {
   "cell_type": "code",
   "execution_count": 3,
   "metadata": {},
   "outputs": [],
   "source": [
    "c1 = Car()\n",
    "c2 = Car()\n",
    "c3 = Car()\n",
    "ford = Car()    "
   ]
  },
  {
   "cell_type": "markdown",
   "metadata": {},
   "source": [
    "Creating Multiple Instances"
   ]
  },
  {
   "cell_type": "code",
   "execution_count": 4,
   "metadata": {},
   "outputs": [
    {
     "name": "stdout",
     "output_type": "stream",
     "text": [
      "blue\n",
      "red\n"
     ]
    }
   ],
   "source": [
    "# see above\n",
    "\n",
    "c1.wheels\n",
    "c1.color\n",
    "\n",
    "c3.color = 'red'\n",
    "\n",
    "print(c1.color)\n",
    "print(c3.color)"
   ]
  },
  {
   "cell_type": "markdown",
   "metadata": {},
   "source": [
    "In-Class Exercise #1 - Create a Class 'Car' and Instantiate three different makes of cars"
   ]
  },
  {
   "cell_type": "code",
   "execution_count": null,
   "metadata": {},
   "outputs": [],
   "source": [
    "class Car():\n",
    "    color = 'red'\n",
    "    year = 2001\n",
    "    model = 'tahoe'\n",
    "    \n",
    "chevy = Car()\n",
    "ford = Car()\n",
    "gm = Car()"
   ]
  },
  {
   "cell_type": "markdown",
   "metadata": {},
   "source": [
    "## The \\__init\\__() Method <br>\n",
    "<p>This method is used in almost every created class, and called only once upon the creation of the class instance. This method will initialize all variables needed for the object.</p>"
   ]
  },
  {
   "cell_type": "code",
   "execution_count": 11,
   "metadata": {},
   "outputs": [
    {
     "name": "stdout",
     "output_type": "stream",
     "text": [
      "shoha\n",
      "brandt\n",
      "stefie@yahoo.com\n",
      "2451 Selfish St\n"
     ]
    }
   ],
   "source": [
    "class User():\n",
    "    def __init__(self, n, age, email, address):\n",
    "        self.name = n\n",
    "        self.age = age\n",
    "        self.email = email\n",
    "        self.address = address\n",
    "        self.isHuman = True\n",
    "        self.bio = ''\n",
    "        \n",
    "    def talk(self):\n",
    "        pass\n",
    "    \n",
    "    def updateBio(self, newBio):\n",
    "        self.bio = newBio\n",
    "        \n",
    "u1 = User('shoha', 48, 'bomccy@yahoo.com', '234 Main')\n",
    "u2 = User('brandt', 50, 'stefie@yahoo.com', '2451 Selfish St')\n",
    "\n",
    "print(u1.name)\n",
    "print(u2.name)\n",
    "print(u2.email)\n",
    "print(u2.address)"
   ]
  },
  {
   "cell_type": "markdown",
   "metadata": {},
   "source": [
    "##### The 'self' Attribute <br>\n",
    "<p>This attribute is required to keep track of specific instance's attributes. Without the self attribute, the program would not know how to reference or keep track of an instance's attributes.</p>"
   ]
  },
  {
   "cell_type": "code",
   "execution_count": null,
   "metadata": {},
   "outputs": [],
   "source": [
    "# see above"
   ]
  },
  {
   "cell_type": "markdown",
   "metadata": {},
   "source": [
    "## Class Attributes <br>\n",
    "<p>While variables are inside of a class, they are referred to as attributes and not variables. When someone says 'attribute' you know they're speaking about a class. Attributes can be initialized through the init method, or outside of it.</p>"
   ]
  },
  {
   "cell_type": "markdown",
   "metadata": {},
   "source": [
    "##### Initializing Attributes"
   ]
  },
  {
   "cell_type": "code",
   "execution_count": null,
   "metadata": {},
   "outputs": [],
   "source": [
    "# see above"
   ]
  },
  {
   "cell_type": "markdown",
   "metadata": {},
   "source": [
    "##### Accessing Class Attributes"
   ]
  },
  {
   "cell_type": "code",
   "execution_count": null,
   "metadata": {
    "scrolled": true
   },
   "outputs": [],
   "source": [
    "# See Above"
   ]
  },
  {
   "cell_type": "markdown",
   "metadata": {},
   "source": [
    "##### Setting Defaults for Attributes"
   ]
  },
  {
   "cell_type": "code",
   "execution_count": 22,
   "metadata": {},
   "outputs": [
    {
     "data": {
      "text/plain": [
       "'even lewis'"
      ]
     },
     "execution_count": 22,
     "metadata": {},
     "output_type": "execute_result"
    }
   ],
   "source": [
    "class User():\n",
    "    def __init__(self, n, l_n, age, email, address='', bio='', isAdmin=False):\n",
    "        self.first_name = n\n",
    "        self.last_name =l_n\n",
    "        self.age = age\n",
    "        self.email = email\n",
    "        self.address = address\n",
    "        self.isHuman = True\n",
    "        self.bio = bio\n",
    "        self.isAdmin = isAdmin\n",
    "        \n",
    "    def talk(self):\n",
    "        pass\n",
    "    \n",
    "    def updateBio(self, newBio):\n",
    "        self.bio = newBio\n",
    "        \n",
    "    def getFullName(self):\n",
    "        return f'{self.first_name} {self.last_name}'\n",
    "        \n",
    "p1 = User('even', 'lewis', 9000, 'evan@evan.com', isAdmin=True)\n",
    "p1.isAdmin\n",
    "\n",
    "p1.getFullName()"
   ]
  },
  {
   "cell_type": "markdown",
   "metadata": {},
   "source": [
    "##### Changing Class Attributes <br>\n",
    "<p>Keep in mind there are global class attributes and then there are attributes only available to each class instance which won't effect other classes.</p>"
   ]
  },
  {
   "cell_type": "code",
   "execution_count": null,
   "metadata": {},
   "outputs": [],
   "source": []
  },
  {
   "cell_type": "code",
   "execution_count": null,
   "metadata": {},
   "outputs": [],
   "source": []
  },
  {
   "cell_type": "markdown",
   "metadata": {},
   "source": [
    "##### In-Class Exercise #2 - Add a doors and seats attribute to your 'Car' class then print out two different instances with different doors and seats"
   ]
  },
  {
   "cell_type": "code",
   "execution_count": 35,
   "metadata": {},
   "outputs": [
    {
     "name": "stdout",
     "output_type": "stream",
     "text": [
      "4\n",
      "2\n"
     ]
    },
    {
     "data": {
      "text/plain": [
       "'The Red 2019 Chevrolet Corvette has 2 doors and 2 seats.'"
      ]
     },
     "execution_count": 35,
     "metadata": {},
     "output_type": "execute_result"
    }
   ],
   "source": [
    "class Car():\n",
    "    def __init__(self, color, year, model, door, seats):\n",
    "        self.color = color\n",
    "        self.year = year\n",
    "        self.model = model\n",
    "        self.door = door\n",
    "        self.seats = seats\n",
    "        \n",
    "    def carDoorSeats(self):\n",
    "        return f'The {self.color} {self.year} Chevrolet {self.model} has {self.door} doors and {self.seats} seats.'\n",
    "\n",
    "c1 = Car('White', 2001, 'Tahoe', 4, 5)\n",
    "c2 = Car('Red', 2019, 'Corvette', 2, 2)\n",
    "\n",
    "print(c1.door)\n",
    "print(c2.seats)\n",
    "\n",
    "c1.carDoorSeats()\n",
    "c2.carDoorSeats()"
   ]
  },
  {
   "cell_type": "markdown",
   "metadata": {},
   "source": [
    "## Class Methods <br>\n",
    "<p>While inside of a class, functions are referred to as 'methods'. If you hear someone mention methods, they're speaking about classes. Methods are essentially functions, but only callable on the instances of a class.</p>"
   ]
  },
  {
   "cell_type": "markdown",
   "metadata": {},
   "source": [
    "##### Creating"
   ]
  },
  {
   "cell_type": "code",
   "execution_count": 37,
   "metadata": {},
   "outputs": [
    {
     "name": "stdout",
     "output_type": "stream",
     "text": [
      "Blah blah blah\n",
      "\n",
      "I am a student\n"
     ]
    }
   ],
   "source": [
    "class User():\n",
    "    def __init__(self, n, l_n, age, email, address='', bio='', isAdmin=False):\n",
    "        self.first_name = n\n",
    "        self.last_name =l_n\n",
    "        self.age = age\n",
    "        self.email = email\n",
    "        self.address = address\n",
    "        self.isHuman = True\n",
    "        self.bio = bio\n",
    "        self.isAdmin = isAdmin\n",
    "        \n",
    "    def talk(self):\n",
    "        return 'Blah blah blah'\n",
    "    \n",
    "    def updateBio(self, newBio):\n",
    "        self.bio = newBio\n",
    "        \n",
    "    def getFullName(self):\n",
    "        return f'{self.first_name} {self.last_name}'\n",
    "    \n",
    "    def happyBirthday(self):\n",
    "        self.age += 1\n",
    "\n",
    "p1 = User('even', 'lewis', 9000, 'evan@evan.com', isAdmin=True)\n",
    "\n",
    "print(p1.talk())\n",
    "print(p1.bio)\n",
    "p1.updateBio('I am a student')\n",
    "print(p1.bio)"
   ]
  },
  {
   "cell_type": "markdown",
   "metadata": {},
   "source": [
    "##### Calling"
   ]
  },
  {
   "cell_type": "code",
   "execution_count": null,
   "metadata": {},
   "outputs": [],
   "source": [
    "# See Above"
   ]
  },
  {
   "cell_type": "markdown",
   "metadata": {},
   "source": [
    "##### Modifying an Attribute's Value Through a Method"
   ]
  },
  {
   "cell_type": "code",
   "execution_count": null,
   "metadata": {},
   "outputs": [],
   "source": []
  },
  {
   "cell_type": "markdown",
   "metadata": {},
   "source": [
    "##### Incrementing an Attribute's Value Through a Method"
   ]
  },
  {
   "cell_type": "code",
   "execution_count": 38,
   "metadata": {},
   "outputs": [
    {
     "name": "stdout",
     "output_type": "stream",
     "text": [
      "9000\n"
     ]
    },
    {
     "ename": "AttributeError",
     "evalue": "'User' object has no attribute 'happyBirthday'",
     "output_type": "error",
     "traceback": [
      "\u001b[1;31m---------------------------------------------------------------------------\u001b[0m",
      "\u001b[1;31mAttributeError\u001b[0m                            Traceback (most recent call last)",
      "Cell \u001b[1;32mIn [38], line 2\u001b[0m\n\u001b[0;32m      1\u001b[0m \u001b[38;5;28mprint\u001b[39m(p1\u001b[38;5;241m.\u001b[39mage)\n\u001b[1;32m----> 2\u001b[0m p1\u001b[38;5;241m.\u001b[39mhappyBirthday()\n\u001b[0;32m      3\u001b[0m \u001b[38;5;28mprint\u001b[39m(p1\u001b[38;5;241m.\u001b[39mage)\n",
      "\u001b[1;31mAttributeError\u001b[0m: 'User' object has no attribute 'happyBirthday'"
     ]
    }
   ],
   "source": [
    "print(p1.age)\n",
    "p1.happyBirthday()\n",
    "print(p1.age)"
   ]
  },
  {
   "cell_type": "markdown",
   "metadata": {},
   "source": [
    "##### In-Class Exercise #3 - Add a method that takes in three parameters of year, doors and seats and prints out a formatted print statement with make, model, year, seats, and doors"
   ]
  },
  {
   "cell_type": "code",
   "execution_count": null,
   "metadata": {},
   "outputs": [],
   "source": [
    "# Create class with 2 paramters inside of the __init__ which are make and model\n",
    "\n",
    "# Inside of the Car class create a method that has 4 parameter in total (self,year,door,seats)\n",
    "\n",
    "# Output: This car is from 2019 and is a Ford Expolorer and has 4 doors and 5 seats\n",
    "\n"
   ]
  },
  {
   "cell_type": "markdown",
   "metadata": {},
   "source": [
    "## Inheritance <br>\n",
    "<p>You can create a child-parent relationship between two classes by using inheritance. What this allows you to do is have overriding methods, but also inherit traits from the parent class. Think of it as an actual parent and child, the child will inherit the parent's genes, as will the classes in OOP</p>"
   ]
  },
  {
   "cell_type": "markdown",
   "metadata": {},
   "source": [
    "##### Syntax for Inheriting from a Parent Class"
   ]
  },
  {
   "cell_type": "code",
   "execution_count": 56,
   "metadata": {},
   "outputs": [
    {
     "name": "stdout",
     "output_type": "stream",
     "text": [
      "..\n",
      "<class '__main__.Animal'>\n",
      "Fluffy\n",
      "..\n",
      "<class '__main__.Dog'>\n",
      "Garfield\n",
      "....\n",
      "<class '__main__.Cat'>\n",
      "True\n",
      "meow\n",
      "[1, 2, 3, 4, 1]\n"
     ]
    }
   ],
   "source": [
    "class Animal():\n",
    "    def __init__(self, name, species='', legs=4):\n",
    "        self.name = name\n",
    "        self.species = species\n",
    "        self.legs = legs\n",
    "    def sniff(self):\n",
    "        return '..'\n",
    "    \n",
    "    \n",
    "class Dog(Animal):\n",
    "    def __init__(self, name, species='Canine', legs=4, isCute=True, isClean=False):\n",
    "        Animal.__init__(self, name, species, legs)\n",
    "        self.isCute = isCute\n",
    "        self.isClean = isClean\n",
    "    \n",
    "    \n",
    "class Cat(Animal):\n",
    "    def __init__(self, name, species='feline', legs=4, isCute=True, isClean=True):\n",
    "        super().__init__(name, species, legs)\n",
    "        self.isCute = isCute\n",
    "        self.isClean = isClean\n",
    "        \n",
    "    def sniff(self):\n",
    "        return '....'\n",
    "    \n",
    "    def meow(self):\n",
    "        print('meow')\n",
    "        \n",
    "a1 = Animal('Shoha', 'Human', 2)\n",
    "print(a1.sniff())\n",
    "print(type(a1))\n",
    "\n",
    "d1 = Dog('Fluffy', 'Canine')\n",
    "print(d1.name)\n",
    "print(d1.sniff())\n",
    "print(type(d1))\n",
    "\n",
    "c1 = Cat('Garfield')\n",
    "print(c1.name)\n",
    "print(c1.sniff())\n",
    "print(type(c1))\n",
    "print(c1.isCute)\n",
    "c1.meow()\n",
    "\n",
    "Dog.sniff(d1)\n",
    "d1.sniff() # This is the most common and best way to use a class\n",
    "\n",
    "x = [1,2,3,4]\n",
    "\n",
    "list.append(x,1)\n",
    "print(x)"
   ]
  },
  {
   "cell_type": "markdown",
   "metadata": {},
   "source": [
    "##### The \\__init\\__() Method for a Child Class - super()"
   ]
  },
  {
   "cell_type": "code",
   "execution_count": null,
   "metadata": {
    "scrolled": true
   },
   "outputs": [],
   "source": [
    "# See Above"
   ]
  },
  {
   "cell_type": "markdown",
   "metadata": {},
   "source": [
    "##### Defining Attributes and Methods for the Child Class"
   ]
  },
  {
   "cell_type": "code",
   "execution_count": null,
   "metadata": {},
   "outputs": [],
   "source": [
    "# See Above"
   ]
  },
  {
   "cell_type": "markdown",
   "metadata": {},
   "source": [
    "##### Method Overriding"
   ]
  },
  {
   "cell_type": "code",
   "execution_count": null,
   "metadata": {},
   "outputs": [],
   "source": [
    "# See Above"
   ]
  },
  {
   "cell_type": "markdown",
   "metadata": {},
   "source": [
    "## Classes as Attributes <br>\n",
    "<p>Classes can also be used as attributes within another class. This is useful in situations where you need to keep variables locally stored, instead of globally stored.</p>"
   ]
  },
  {
   "cell_type": "code",
   "execution_count": 2,
   "metadata": {},
   "outputs": [
    {
     "data": {
      "text/plain": [
       "10"
      ]
     },
     "execution_count": 2,
     "metadata": {},
     "output_type": "execute_result"
    }
   ],
   "source": [
    "class Battery():\n",
    "    def __init__(self, cells):\n",
    "        self.volts = 7.8\n",
    "        self.cells = cells\n",
    "        \n",
    "class Cars():\n",
    "    def __init__(self, make, model, year, battery):\n",
    "        self.make = make\n",
    "        self.model = model\n",
    "        self.year = year\n",
    "        self.battery = battery\n",
    "        \n",
    "    def printInfo(self):\n",
    "        return f'This is a {self.year} {self.make} {self.model} and has a {self.battery.volts} volt battery'\n",
    "    \n",
    "b = Battery(10)\n",
    "\n",
    "c = Cars('Suzuki', 'grand Vitara', 1999, b)\n",
    "\n",
    "c.battery.cells"
   ]
  },
  {
   "cell_type": "markdown",
   "metadata": {},
   "source": [
    "# Exercises"
   ]
  },
  {
   "cell_type": "markdown",
   "metadata": {},
   "source": [
    "### Exercise 1 - Turn the shopping cart program from yesterday into an object-oriented program\n",
    "\n",
    "The comments in the cell below are there as a guide for thinking about the problem. However, if you feel a different way is best for you and your own thought process, please do what feels best for you by all means."
   ]
  },
  {
   "cell_type": "code",
   "execution_count": null,
   "metadata": {},
   "outputs": [],
   "source": [
    "# Create a class called cart that retains items and has methods to add, remove, and show\n",
    "\n",
    "import os\n",
    "\n",
    "class NewCart():\n",
    "    def __init__(self):     # Class Initialization\n",
    "        self.cart = []\n",
    "\n",
    "    def add(cart):          # Adding items function\n",
    "        cart_item = input('\\nWhat would you like to add to your cart?  ')\n",
    "        os.system('cls')\n",
    "        if cart_item.title() in cart:\n",
    "            print(f'\\nThat item is already in your cart.\\n')\n",
    "        else:\n",
    "            cart.append(cart_item.title())\n",
    "            print(f'\\n{cart_item.title()} added.\\n')\n",
    "    \n",
    "    def remove(cart):       # Removinging items function with empty cart\n",
    "        if len(cart) == 0:  # test and test for items not in the cart\n",
    "            print('\\nYour cart is empty.\\n')\n",
    "        else:\n",
    "            cart_item = input('\\nWhat would you like to remove from your cart?  ')\n",
    "            os.system('cls')\n",
    "            if cart_item.title() in cart:\n",
    "                cart.remove(cart_item.title())\n",
    "                print(f'\\n{cart_item.title()} removed.\\n')\n",
    "            else:\n",
    "                print('That item is not in the cart.')\n",
    "                print('The following items are in your cart...')\n",
    "                for cart_item in cart:\n",
    "                    print(f'{cart_item.title()}')\n",
    "                print('')\n",
    "\n",
    "    def view(cart):         # Viewing items in the cart function\n",
    "        if len(cart) == 0:\n",
    "            print('\\nYour cart is empty.\\n')\n",
    "        else:\n",
    "            os.system('cls')\n",
    "            print('The following items are in your cart...')\n",
    "            for cart_item in cart:\n",
    "                print(f'{cart_item.title()}')\n",
    "            print('')\n",
    "\n",
    "    def quit(cart):         # Print the cart and exit the program\n",
    "        print('The following items are in your cart...')\n",
    "        for cart_item in cart:\n",
    "            print(f'{cart_item.title()}')\n",
    "\n",
    "### ------------------------ Main Body Start ------------------------ ###\n",
    "            \n",
    "def shopping_cart_class():\n",
    "    cart = []\n",
    "    start_point = True\n",
    "    os.system('cls')\n",
    "    while start_point:\n",
    "        query = input('What would you like to do?\\n'\n",
    "            '\\'a\\' to add items\\n'\n",
    "            '\\'r\\' to remove items\\n'\n",
    "            '\\'v\\' to view all the items\\n'\n",
    "            '\\'q\\' to quit\\n')\n",
    "        os.system('cls')\n",
    "        if query == 'a':\n",
    "            NewCart.add(cart)\n",
    "            start_point = True\n",
    "        elif query == 'r':\n",
    "            NewCart.remove(cart)\n",
    "            start_point = True\n",
    "        elif query == 'v':\n",
    "            NewCart.view(cart)\n",
    "            start_point = True\n",
    "        elif query == 'q':\n",
    "            NewCart.quit(cart)\n",
    "            break\n",
    "        else:\n",
    "            print('\\nThat is not an option.\\n')\n",
    "\n",
    "shopping_cart_class()       # Function to Call"
   ]
  },
  {
   "cell_type": "markdown",
   "metadata": {},
   "source": [
    "### Exercise 2 - Write a Python class which has two methods get_String and print_String. get_String accept a string from the user and print_String print the string in upper case"
   ]
  },
  {
   "cell_type": "code",
   "execution_count": null,
   "metadata": {},
   "outputs": [],
   "source": [
    "# To help better understand, improvise alternate solutions were coded which were\n",
    "# named to help define which state to use in the future. If these states already\n",
    "# have names, please tell me so that I don't look like a fool to other people\n",
    "# calling it what I call it. I think that as your arguments get more numerous, \n",
    "# your code gets more complex and you must evolve to the next state to make your\n",
    "# code more efficient and to interlink parent-child relationships.\n",
    "\n",
    "class Stringed():        # Devolving Class.method complexity: Initialization State\n",
    "    def __init__(self):\n",
    "        self.s = ''\n",
    "\n",
    "    def get_string(self):\n",
    "        self.s = input('Please type something. ')\n",
    "\n",
    "    def print_string(self):\n",
    "        print(self.s.upper())\n",
    "\n",
    "str1 = Stringed()\n",
    "str1.get_string()\n",
    "str1.print_string()\n",
    "\n",
    "\n",
    "\n",
    "class Stringed():        # Devolving Class.method complexity: Argument State\n",
    "    # No initialization because the single argument is defined by the input only\n",
    "    def get_string(self):\n",
    "        return input('Please type something. ')\n",
    "\n",
    "    def print_string(self):\n",
    "        print(Stringed.get_string(self).upper())\n",
    "\n",
    "str1 = Stringed()\n",
    "str1.print_string()\n",
    "\n",
    "\n",
    "\n",
    "class Stringed():        # Devolving Class.method complexity: Functional State\n",
    "    # No Argument because the argument is a function\n",
    "    def get_string():\n",
    "        return input('Please type something. ')\n",
    "\n",
    "    def print_string():\n",
    "        print(Stringed.get_string().upper())\n",
    "\n",
    "Stringed.print_string()"
   ]
  }
 ],
 "metadata": {
  "kernelspec": {
   "display_name": "Python 3 (ipykernel)",
   "language": "python",
   "name": "python3"
  },
  "language_info": {
   "codemirror_mode": {
    "name": "ipython",
    "version": 3
   },
   "file_extension": ".py",
   "mimetype": "text/x-python",
   "name": "python",
   "nbconvert_exporter": "python",
   "pygments_lexer": "ipython3",
   "version": "3.9.12"
  },
  "vscode": {
   "interpreter": {
    "hash": "6e0077779bb6db856296e311a684de6a8d1c17385af79566a867c3bd763c67d2"
   }
  }
 },
 "nbformat": 4,
 "nbformat_minor": 2
}
